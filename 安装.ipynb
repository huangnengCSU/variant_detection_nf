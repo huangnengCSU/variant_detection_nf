{
 "cells": [
  {
   "cell_type": "code",
   "execution_count": null,
   "metadata": {},
   "outputs": [],
   "source": []
  },
  {
   "cell_type": "markdown",
   "metadata": {},
   "source": [
    "Docker安装 Guppy v6.4.2"
   ]
  },
  {
   "cell_type": "code",
   "execution_count": null,
   "metadata": {
    "vscode": {
     "languageId": "shellscript"
    }
   },
   "outputs": [],
   "source": [
    "docker pull nvidia/cuda:11.5.1-cudnn8-devel-ubuntu20.04\n",
    "docker run -it nvidia/cuda:11.5.1-cudnn8-devel-ubuntu20.04 /bin/bash\n",
    "apt-get update\n",
    "apt-get install wget -y\n",
    "cd ~\n",
    "wget https://cdn.oxfordnanoportal.com/software/analysis/ont_guppy_6.4.2-1~focal_amd64.deb\n",
    "apt update\n",
    "apt install wget lsb-release\n",
    "wget -O- https://cdn.oxfordnanoportal.com/apt/ont-repo.pub | apt-key add -\n",
    "echo \"deb http://cdn.oxfordnanoportal.com/apt ${PLATFORM}-stable non-free\" | tee /etc/apt/sources.list.d/nanoporetech.sources.list\n",
    "apt update\n",
    "apt install ont-guppy"
   ]
  },
  {
   "cell_type": "code",
   "execution_count": null,
   "metadata": {
    "vscode": {
     "languageId": "shellscript"
    }
   },
   "outputs": [],
   "source": [
    "From cuda:11.5.1-cudnn8-devel-ubuntu20.04\n",
    "RUN apt-get update\n",
    "RUN apt-get install -y wget git\n",
    "RUN cd ~\n",
    "RUN wget https://cdn.oxfordnanoportal.com/software/analysis/ont_guppy_5.0.16-1~focal_amd64.deb\n",
    "RUN apt update\n",
    "RUN apt install wget lsb-release\n",
    "RUN wget -O- https://cdn.oxfordnanoportal.com/apt/ont-repo.pub | apt-key add -\n",
    "RUN echo \"deb http://cdn.oxfordnanoportal.com/apt ${PLATFORM}-stable non-free\" | tee /etc/apt/sources.list.d/nanoporetech.sources.list\n",
    "RUN apt update\n",
    "RUN apt install ont-guppy"
   ]
  },
  {
   "cell_type": "code",
   "execution_count": null,
   "metadata": {
    "vscode": {
     "languageId": "shellscript"
    }
   },
   "outputs": [],
   "source": [
    "From cuda:11.5.1-cudnn8-devel-ubuntu20.04\n",
    "RUN apt-get update && apt-get install -y wget git\n",
    "RUN apt-get update && apt-get install -y --no-install-recommends libhdf5-dev libssl-dev libzstd-dev\n",
    "RUN cd ~\n",
    "RUN wget https://cdn.oxfordnanoportal.com/software/analysis/dorado-0.0.2-linux-x64.tar.gz\n",
    "RUN tar -zxvf dorado-0.0.2-linux-x64.tar.gz\n",
    "ENV PATH=/root/dorado-0.0.2+acbca36-Linux/bin:${PATH}\n",
    "RUN apt update"
   ]
  }
 ],
 "metadata": {
  "kernelspec": {
   "display_name": "base",
   "language": "python",
   "name": "python3"
  },
  "language_info": {
   "name": "python",
   "version": "3.9.12 (main, Apr  5 2022, 01:52:34) \n[Clang 12.0.0 ]"
  },
  "orig_nbformat": 4,
  "vscode": {
   "interpreter": {
    "hash": "3d597f4c481aa0f25dceb95d2a0067e73c0966dcbd003d741d821a7208527ecf"
   }
  }
 },
 "nbformat": 4,
 "nbformat_minor": 2
}
